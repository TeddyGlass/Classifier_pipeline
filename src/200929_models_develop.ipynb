{
 "cells": [
  {
   "cell_type": "markdown",
   "metadata": {},
   "source": [
    "# inportant"
   ]
  },
  {
   "cell_type": "code",
   "execution_count": 6,
   "metadata": {},
   "outputs": [],
   "source": [
    "from keras.callbacks import EarlyStopping\n",
    "from keras.layers.advanced_activations import ReLU\n",
    "from keras.layers.core import Dense, Dropout\n",
    "from keras.layers.normalization import BatchNormalization\n",
    "from keras.models import Sequential\n",
    "from keras.optimizers import Adam\n",
    "from sklearn.preprocessing import StandardScaler\n",
    "from keras.utils import np_utils\n",
    "\n",
    "\n",
    "class NNClassifier:\n",
    "    '''\n",
    "    Usage:\n",
    "    clf = NNClassifier(**params)\n",
    "    history = clf.fit(\n",
    "    X_train,\n",
    "    y_train,\n",
    "    X_valid,\n",
    "    y_valid,\n",
    "    early_stopping_rounds\n",
    "    )\n",
    "    '''\n",
    "    \n",
    "    def __init__(self, input_shape=1024, input_dropout=0.2, hidden_layers=1, hidden_units=64, hidden_dropout=0.2,\n",
    "                 batch_norm=\"none\", learning_rate=0.05, batch_size=64, epochs=10000):\n",
    "        self.input_shape = int(input_shape) # layer param\n",
    "        self.input_dropout = input_dropout # layer param\n",
    "        self.hidden_layers = int(hidden_layers) # layer param\n",
    "        self.hidden_units = int(hidden_units) # layer param\n",
    "        self.hidden_dropout = hidden_dropout # layer param\n",
    "        self.batch_norm = batch_norm # layer param\n",
    "        self.learning_rate = learning_rate # optimizer param\n",
    "        self.batch_size = int(batch_size) # fit param\n",
    "        self.epochs = int(epochs) # fit param\n",
    "        \n",
    "    def fit(self, X_train, y_train, X_valid, y_valid, early_stopping_rounds):\n",
    "        # Data standardization\n",
    "        self.scaler = StandardScaler()\n",
    "        X_train = self.scaler.fit_transform(X_train)\n",
    "        X_valid = self.scaler.transform(X_valid)\n",
    "        # layers\n",
    "        self.model = Sequential()\n",
    "        self.model.add(Dropout(self.input_dropout, input_shape=(self.input_shape,)))\n",
    "        for i in range(self.hidden_layers):\n",
    "            self.model.add(Dense(self.hidden_units))\n",
    "            if self.batch_norm == 'before_act':\n",
    "                self. model.add(BatchNormalization())\n",
    "            else:\n",
    "                raise NotImplementedError\n",
    "            self.model.add(ReLU())\n",
    "            self.model.add(Dropout(self.hidden_dropout))\n",
    "        self.model.add(Dense(1, activation='sigmoid'))\n",
    "        # Optimazer\n",
    "        optimizer = Adam(lr=self.learning_rate, beta_1=0.9, beta_2=0.999, decay=0.)\n",
    "        # Compile\n",
    "        self.model.compile(\n",
    "            loss='binary_crossentropy',\n",
    "            optimizer=optimizer,\n",
    "            metrics=['accuracy']\n",
    "        )\n",
    "        # train\n",
    "        early_stopping = EarlyStopping(patience=early_stopping_rounds, restore_best_weights=True)\n",
    "        self.history = self.model.fit(\n",
    "            X_train,\n",
    "            y_train,\n",
    "            epochs=self.epochs,\n",
    "            batch_size=self.batch_size,\n",
    "            verbose=1,\n",
    "            validation_data=(X_valid, y_valid),\n",
    "            callbacks=[early_stopping]\n",
    "        )\n",
    "        return self.history\n",
    "    \n",
    "    def predict(self, x):\n",
    "        x = self.scaler.transform(x)\n",
    "        y_pred = self.model.predict(x)\n",
    "        y_pred = y_pred.flatten()\n",
    "        return y_pred\n",
    "\n",
    "    def get_model(self):\n",
    "        return self.model"
   ]
  },
  {
   "cell_type": "code",
   "execution_count": 7,
   "metadata": {
    "scrolled": true
   },
   "outputs": [
    {
     "name": "stdout",
     "output_type": "stream",
     "text": [
      "Train on 455 samples, validate on 114 samples\n",
      "Epoch 1/10000\n",
      "455/455 [==============================] - 0s 805us/step - loss: 0.2310 - accuracy: 0.9253 - val_loss: 0.0617 - val_accuracy: 0.9737\n",
      "Epoch 2/10000\n",
      "455/455 [==============================] - 0s 143us/step - loss: 0.2068 - accuracy: 0.9297 - val_loss: 0.0539 - val_accuracy: 0.9912\n",
      "Epoch 3/10000\n",
      "455/455 [==============================] - 0s 133us/step - loss: 0.1703 - accuracy: 0.9429 - val_loss: 0.0794 - val_accuracy: 0.9649\n",
      "Epoch 4/10000\n",
      "455/455 [==============================] - 0s 127us/step - loss: 0.2296 - accuracy: 0.9121 - val_loss: 0.1007 - val_accuracy: 0.9825\n",
      "Epoch 5/10000\n",
      "455/455 [==============================] - 0s 141us/step - loss: 0.2242 - accuracy: 0.9341 - val_loss: 0.1266 - val_accuracy: 0.9825\n",
      "Epoch 6/10000\n",
      "455/455 [==============================] - 0s 136us/step - loss: 0.2249 - accuracy: 0.9033 - val_loss: 0.1314 - val_accuracy: 0.9474\n",
      "Epoch 7/10000\n",
      "455/455 [==============================] - 0s 141us/step - loss: 0.2602 - accuracy: 0.9121 - val_loss: 0.1340 - val_accuracy: 0.9474\n",
      "Epoch 8/10000\n",
      "455/455 [==============================] - 0s 138us/step - loss: 0.1658 - accuracy: 0.9363 - val_loss: 0.0633 - val_accuracy: 0.9912\n",
      "Epoch 9/10000\n",
      "455/455 [==============================] - 0s 146us/step - loss: 0.2244 - accuracy: 0.9363 - val_loss: 0.1028 - val_accuracy: 0.9737\n",
      "Epoch 10/10000\n",
      "455/455 [==============================] - 0s 139us/step - loss: 0.1780 - accuracy: 0.9231 - val_loss: 0.0715 - val_accuracy: 0.9737\n",
      "Epoch 11/10000\n",
      "455/455 [==============================] - 0s 139us/step - loss: 0.3111 - accuracy: 0.8835 - val_loss: 0.1117 - val_accuracy: 0.9561\n",
      "Epoch 12/10000\n",
      "455/455 [==============================] - 0s 144us/step - loss: 0.1531 - accuracy: 0.9473 - val_loss: 0.0900 - val_accuracy: 0.9737\n"
     ]
    }
   ],
   "source": [
    "from sklearn.model_selection import train_test_split\n",
    "from sklearn.datasets import load_breast_cancer\n",
    "brest_c = load_breast_cancer()\n",
    "X = brest_c['data']\n",
    "y = brest_c['target']\n",
    "X_train, X_valid, y_train, y_valid = train_test_split(X, y, test_size=0.2)\n",
    "\n",
    "# input_shape = X.shape[1]\n",
    "# input_dropout = 0.0\n",
    "# hidden_layers = 1\n",
    "# hidden_units = 16\n",
    "# hidden_dropout = 0.2\n",
    "# batch_norm = 'before_act'\n",
    "# batch_size = 10\n",
    "# learning_rate = 0.05\n",
    "# epochs = 10000\n",
    "early_stopping_rounds = 10\n",
    "\n",
    "params = {\n",
    "    'input_shape':X.shape[1],\n",
    "    \"input_dropout\":0.0,\n",
    "    \"hidden_layers\":1,\n",
    "    'hidden_units':16,\n",
    "    'hidden_dropout':0.2,\n",
    "    'batch_norm':'before_act',\n",
    "    'batch_size':10,\n",
    "    'learning_rate':0.05,\n",
    "    'epochs':10000\n",
    "}\n",
    "\n",
    "\n",
    "model = NNClassifier(\n",
    "    **params\n",
    "#     input_shape, input_dropout, hidden_layers, hidden_units, hidden_dropout,\n",
    "#                  batch_norm, learning_rate, batch_size, epochs\n",
    ")\n",
    "hist = model.fit(\n",
    "    X_train,\n",
    "    y_train,\n",
    "    X_valid,\n",
    "    y_valid,\n",
    "    early_stopping_rounds\n",
    ")"
   ]
  },
  {
   "cell_type": "code",
   "execution_count": 8,
   "metadata": {},
   "outputs": [
    {
     "data": {
      "image/png": "[encoded data removed]",
      "text/plain": [
       "<Figure size 432x288 with 1 Axes>"
      ]
     },
     "metadata": {
      "needs_background": "light"
     },
     "output_type": "display_data"
    }
   ],
   "source": [
    "import matplotlib.pyplot as plt\n",
    "from sklearn.metrics import roc_curve, auc\n",
    "fpr, tpr, thresholds = roc_curve(y_valid, model.predict(X_valid))\n",
    "plt.plot(fpr, tpr, marker='o')\n",
    "plt.xlabel('FPR: False positive rate')\n",
    "plt.ylabel('TPR: True positive rate')\n",
    "plt.grid()"
   ]
  },
  {
   "cell_type": "markdown",
   "metadata": {},
   "source": [
    "# Trainerクラスの編集"
   ]
  },
  {
   "cell_type": "code",
   "execution_count": 20,
   "metadata": {},
   "outputs": [],
   "source": [
    "import numpy as np\n",
    "import matplotlib.pyplot as plt\n",
    "import seaborn as sns\n",
    "\n",
    "\n",
    "class Trainer:\n",
    "\n",
    "    '''\n",
    "    # Usage\n",
    "    n_splits = 3\n",
    "    random_state = 0\n",
    "    early_stopping_rounds=10\n",
    "    kf = KFold(n_splits=n_splits, random_state=random_state, shuffle=True)\n",
    "    for tr_idx, va_idx in kf.split(X, y):\n",
    "        model = Trainer(XGBRegressor(**XGB_PARAMS))\n",
    "        model.fit(\n",
    "            X[tr_idx],\n",
    "            y[tr_idx],\n",
    "            X[va_idx],\n",
    "            y[va_idx],\n",
    "            early_stopping_rounds\n",
    "        )\n",
    "        model.get_learning_curve()\n",
    "    '''\n",
    "\n",
    "    def __init__(self, model):\n",
    "        self.model = model\n",
    "        self.model_type = type(model).__name__\n",
    "        self.best_iteration = 100\n",
    "        self.train_rmse = []\n",
    "        self.valid_rmse = []\n",
    "        self.importance = []\n",
    "\n",
    "    \n",
    "    def fit(self,\n",
    "            X_train, y_train, X_valid, y_valid,\n",
    "            early_stopping_rounds):\n",
    "\n",
    "        eval_set = [(X_train, y_train), (X_valid, y_valid)]\n",
    "\n",
    "        if self.model_type == \"LGBMClassifier\":\n",
    "            self.model.fit(\n",
    "                X_train,\n",
    "                y_train,\n",
    "                early_stopping_rounds=early_stopping_rounds,\n",
    "                eval_set=eval_set,\n",
    "                eval_metric='logloss',\n",
    "                verbose=False\n",
    "            )\n",
    "            self.best_iteration = self.model.best_iteration_\n",
    "            self.importance = self.model.booster_.feature_importance(\n",
    "                importance_type='gain')\n",
    "            self.train_logloss = np.array(\n",
    "                self.model.evals_result_['training']['binary_logloss'])\n",
    "            self.valid_logloss = np.array(\n",
    "                self.model.evals_result_['valid_1']['binary_logloss'])\n",
    "            self.importance = self.model.feature_importances_\n",
    "\n",
    "        elif self.model_type == 'XGBClassifier':\n",
    "            self.model.fit(\n",
    "                X_train,\n",
    "                y_train,\n",
    "                early_stopping_rounds=early_stopping_rounds,\n",
    "                eval_set=eval_set,\n",
    "                eval_metric='logloss',\n",
    "                verbose=0\n",
    "            )\n",
    "            self.best_iteration = self.model.best_iteration\n",
    "            self.importance = self.model.feature_importances_\n",
    "            self.train_logloss = np.array(\n",
    "                self.model.evals_result_['validation_0']['logloss'])\n",
    "            self.valid_logloss = np.array(\n",
    "                self.model.evals_result_['validation_1']['logloss'])\n",
    "            \n",
    "        elif self.model_type == 'NNClassifier':\n",
    "            self.history = self.model.fit(\n",
    "                X_train,\n",
    "                y_train,\n",
    "                X_valid,\n",
    "                y_valid,\n",
    "                early_stopping_rounds\n",
    "            )\n",
    "            self.train_logloss = np.array(self.history.history['loss'])\n",
    "            self.valid_logloss = np.array(self.history.history['val_loss'])\n",
    "            \n",
    "\n",
    "    def predict_proba(self, X):\n",
    "        if self.model_type == \"LGBMClassifier\":\n",
    "            print(print(f\"model type is {self.model_type}\"))\n",
    "            return self.model.predict_proba(X, ntree_limit=self.best_iteration)\n",
    "        elif self.model_type == \"XGBClassifier\":\n",
    "            print(print(f\"model type is {self.model_type}\"))\n",
    "            return self.model.predict_proba(X, ntree_limit=self.best_iteration)\n",
    "        elif self.model_type == 'NNClassifier':\n",
    "            print(print(f\"model type is {self.model_type}\"))\n",
    "            return self.model.predict(X)\n",
    "        \n",
    "        \n",
    "    def get_model(self):\n",
    "        if self.model_type == \"LGBMClassifier\":\n",
    "            print(print(f\"model type is {self.model_type}\"))\n",
    "            return self.model\n",
    "        elif self.model_type == \"XGBClassifier\":\n",
    "            print(print(f\"model type is {self.model_type}\"))\n",
    "            return self.model\n",
    "        elif self.model_type == 'NNClassifier':\n",
    "            return self.model.get_model()\n",
    "\n",
    "    \n",
    "    def get_best_iteration(self):\n",
    "        print(print(f\"model type is {self.model_type}\"))\n",
    "        return self.best_iteration\n",
    "\n",
    "    \n",
    "    def get_importance(self):\n",
    "        if self.model_type == \"LGBMClassifier\":\n",
    "            print(print(f\"model type is {self.model_type}\"))\n",
    "            return self.importance\n",
    "        elif self.model_type == \"XGBClassifier\":\n",
    "            print(print(f\"model type is {self.model_type}\"))\n",
    "            return self.importance\n",
    "        elif self.model_type == 'NNClassifier':\n",
    "            print(print(f\"model type is {self.model_type}\"))\n",
    "            return 'For NNClassifier, feature importance is not callable.'\n",
    "\n",
    "        \n",
    "    def get_learning_curve(self):\n",
    "        palette = sns.diverging_palette(220, 20, n=2)\n",
    "        width = np.arange(self.train_logloss.shape[0])\n",
    "        plt.figure(figsize=(10, 7.32))\n",
    "        plt.title(\n",
    "            'Learning_Curve ({})'.format(self.model_type), fontsize=15)\n",
    "        plt.xlabel('Iterations', fontsize=15)\n",
    "        plt.ylabel('LogLoss', fontsize=15)\n",
    "        plt.plot(width, self.train_logloss, label='train_logloss', color=palette[0])\n",
    "        plt.plot(width, self.valid_logloss, label='valid_logloss', color=palette[1])\n",
    "        plt.legend(loc='upper right', fontsize=13)\n",
    "        plt.show()"
   ]
  },
  {
   "cell_type": "code",
   "execution_count": 21,
   "metadata": {
    "scrolled": true
   },
   "outputs": [
    {
     "name": "stdout",
     "output_type": "stream",
     "text": [
      "Train on 455 samples, validate on 114 samples\n",
      "Epoch 1/10000\n",
      "455/455 [==============================] - 0s 906us/step - loss: 0.2766 - accuracy: 0.8945 - val_loss: 0.0816 - val_accuracy: 0.9474\n",
      "Epoch 2/10000\n",
      "455/455 [==============================] - 0s 141us/step - loss: 0.1923 - accuracy: 0.9319 - val_loss: 0.1044 - val_accuracy: 0.9737\n",
      "Epoch 3/10000\n",
      "455/455 [==============================] - 0s 137us/step - loss: 0.2212 - accuracy: 0.9209 - val_loss: 0.1053 - val_accuracy: 0.9649\n",
      "Epoch 4/10000\n",
      "455/455 [==============================] - 0s 138us/step - loss: 0.2421 - accuracy: 0.9077 - val_loss: 0.1054 - val_accuracy: 0.9737\n",
      "Epoch 5/10000\n",
      "455/455 [==============================] - 0s 136us/step - loss: 0.1711 - accuracy: 0.9363 - val_loss: 0.1751 - val_accuracy: 0.9386\n",
      "Epoch 6/10000\n",
      "455/455 [==============================] - 0s 137us/step - loss: 0.1292 - accuracy: 0.9495 - val_loss: 0.0831 - val_accuracy: 0.9737\n",
      "Epoch 7/10000\n",
      "455/455 [==============================] - 0s 137us/step - loss: 0.1826 - accuracy: 0.9319 - val_loss: 0.1231 - val_accuracy: 0.9561\n",
      "Epoch 8/10000\n",
      "455/455 [==============================] - 0s 143us/step - loss: 0.1752 - accuracy: 0.9407 - val_loss: 0.1359 - val_accuracy: 0.9561\n",
      "Epoch 9/10000\n",
      "455/455 [==============================] - 0s 142us/step - loss: 0.2165 - accuracy: 0.9231 - val_loss: 0.1289 - val_accuracy: 0.9737\n",
      "Epoch 10/10000\n",
      "455/455 [==============================] - 0s 143us/step - loss: 0.1889 - accuracy: 0.9385 - val_loss: 0.0940 - val_accuracy: 0.9737\n",
      "Epoch 11/10000\n",
      "455/455 [==============================] - 0s 167us/step - loss: 0.1846 - accuracy: 0.9407 - val_loss: 0.1255 - val_accuracy: 0.9649\n"
     ]
    }
   ],
   "source": [
    "early_stopping_rounds = 10\n",
    "params = {\n",
    "    'input_shape':X.shape[1],\n",
    "    \"input_dropout\":0.0,\n",
    "    \"hidden_layers\":1,\n",
    "    'hidden_units':16,\n",
    "    'hidden_dropout':0.2,\n",
    "    'batch_norm':'before_act',\n",
    "    'batch_size':10,\n",
    "    'learning_rate':0.05,\n",
    "    'epochs':10000\n",
    "}\n",
    "\n",
    "clf = Trainer(NNClassifier(**params))\n",
    "clf.fit(\n",
    "    X_train,\n",
    "    y_train,\n",
    "    X_valid,\n",
    "    y_valid,\n",
    "    early_stopping_rounds\n",
    ")"
   ]
  },
  {
   "cell_type": "code",
   "execution_count": 22,
   "metadata": {},
   "outputs": [
    {
     "name": "stdout",
     "output_type": "stream",
     "text": [
      "model type is NNClassifier\n",
      "None\n"
     ]
    },
    {
     "data": {
      "text/plain": [
       "array([9.9940646e-01, 9.9535847e-01, 9.9583560e-01, 9.9998462e-01,\n",
       "       9.8806548e-01, 6.5216422e-03, 3.1668842e-01, 3.3468008e-05,\n",
       "       9.9999601e-01, 2.5033951e-06, 9.9955010e-01, 9.9984199e-01,\n",
       "       9.7854650e-01, 1.1622906e-06, 9.9643040e-01, 8.7002069e-02,\n",
       "       9.9999899e-01, 9.9293202e-01, 9.9998802e-01, 9.5029396e-01,\n",
       "       9.6288007e-01, 9.6048498e-01, 9.2511106e-01, 6.3275397e-03,\n",
       "       9.9450684e-01, 9.9405301e-01, 5.2212292e-01, 4.4408613e-01,\n",
       "       9.9989408e-01, 9.9989676e-01, 9.9943984e-01, 5.2930415e-03,\n",
       "       9.9664992e-01, 5.9879124e-03, 9.9999923e-01, 9.9998236e-01,\n",
       "       2.3837507e-02, 9.9987662e-01, 5.1377881e-01, 0.0000000e+00,\n",
       "       9.9960327e-01, 1.0412335e-03, 9.9757081e-01, 8.1435275e-01,\n",
       "       1.0934472e-04, 9.9679434e-01, 6.2029660e-01, 6.7865229e-01,\n",
       "       1.0132790e-06, 9.9969822e-01, 9.9875641e-01, 9.9999666e-01,\n",
       "       4.6187639e-04, 9.9864727e-01, 6.5717101e-04, 9.9972618e-01,\n",
       "       7.1910918e-03, 9.9856848e-01, 9.9999219e-01, 9.9684918e-01,\n",
       "       9.7133660e-01, 9.9880230e-01, 9.9998832e-01, 9.9966371e-01,\n",
       "       8.0836964e-01, 2.1632910e-03, 1.1070371e-03, 9.9998057e-01,\n",
       "       9.9999160e-01, 9.9996752e-01, 9.9999785e-01, 9.9880731e-01,\n",
       "       9.9641258e-01, 9.9958664e-01, 2.3469985e-02, 0.0000000e+00,\n",
       "       9.9984026e-01, 9.9908286e-01, 9.9954969e-01, 9.9916339e-01,\n",
       "       9.9967760e-01, 1.9119352e-02, 9.7980666e-01, 9.9998999e-01,\n",
       "       9.9918199e-01, 5.0281537e-01, 9.8884505e-01, 9.9999619e-01,\n",
       "       2.3216009e-05, 9.9935871e-01, 4.3153763e-05, 4.7917932e-02,\n",
       "       9.9928141e-01, 9.9963343e-01, 9.9885678e-01, 9.9974853e-01,\n",
       "       9.9998093e-01, 1.9665688e-02, 9.9375451e-01, 3.5815537e-02,\n",
       "       6.1237812e-04, 5.9604645e-08, 9.9451041e-01, 9.9999619e-01,\n",
       "       9.8092657e-01, 9.4838583e-01, 2.2211671e-04, 9.9999344e-01,\n",
       "       6.2190920e-02, 8.6681092e-01, 9.9973631e-01, 2.8111637e-03,\n",
       "       9.9956328e-01, 5.8255315e-01], dtype=float32)"
      ]
     },
     "execution_count": 22,
     "metadata": {},
     "output_type": "execute_result"
    }
   ],
   "source": [
    "clf.predict_proba(X_valid)"
   ]
  },
  {
   "cell_type": "code",
   "execution_count": 23,
   "metadata": {},
   "outputs": [
    {
     "name": "stdout",
     "output_type": "stream",
     "text": [
      "model type is NNClassifier\n",
      "None\n"
     ]
    },
    {
     "data": {
      "text/plain": [
       "100"
      ]
     },
     "execution_count": 23,
     "metadata": {},
     "output_type": "execute_result"
    }
   ],
   "source": [
    "clf.get_best_iteration()"
   ]
  },
  {
   "cell_type": "code",
   "execution_count": 24,
   "metadata": {},
   "outputs": [
    {
     "name": "stdout",
     "output_type": "stream",
     "text": [
      "model type is NNClassifier\n",
      "None\n"
     ]
    },
    {
     "data": {
      "text/plain": [
       "'For NNClassifier, feature importance is not callable.'"
      ]
     },
     "execution_count": 24,
     "metadata": {},
     "output_type": "execute_result"
    }
   ],
   "source": [
    "clf.get_importance()"
   ]
  },
  {
   "cell_type": "code",
   "execution_count": 25,
   "metadata": {},
   "outputs": [
    {
     "data": {
      "image/png": "[encoded data removed]",
      "text/plain": [
       "<Figure size 720x527.04 with 1 Axes>"
      ]
     },
     "metadata": {
      "needs_background": "light"
     },
     "output_type": "display_data"
    }
   ],
   "source": [
    "clf.get_learning_curve()"
   ]
  },
  {
   "cell_type": "code",
   "execution_count": 26,
   "metadata": {},
   "outputs": [
    {
     "name": "stdout",
     "output_type": "stream",
     "text": [
      "Model: \"sequential_4\"\n",
      "_________________________________________________________________\n",
      "Layer (type)                 Output Shape              Param #   \n",
      "=================================================================\n",
      "dropout_7 (Dropout)          (None, 30)                0         \n",
      "_________________________________________________________________\n",
      "dense_7 (Dense)              (None, 16)                496       \n",
      "_________________________________________________________________\n",
      "batch_normalization_4 (Batch (None, 16)                64        \n",
      "_________________________________________________________________\n",
      "re_lu_4 (ReLU)               (None, 16)                0         \n",
      "_________________________________________________________________\n",
      "dropout_8 (Dropout)          (None, 16)                0         \n",
      "_________________________________________________________________\n",
      "dense_8 (Dense)              (None, 1)                 17        \n",
      "=================================================================\n",
      "Total params: 577\n",
      "Trainable params: 545\n",
      "Non-trainable params: 32\n",
      "_________________________________________________________________\n"
     ]
    }
   ],
   "source": [
    "m = clf.get_model()\n",
    "m.summary()"
   ]
  },
  {
   "cell_type": "code",
   "execution_count": 28,
   "metadata": {
    "scrolled": true
   },
   "outputs": [
    {
     "data": {
      "text/plain": [
       "{'val_loss': [0.08158592647350017,\n",
       "  0.10436565004975389,\n",
       "  0.10528957497393876,\n",
       "  0.10537468772708324,\n",
       "  0.1750935291454784,\n",
       "  0.08313599774785536,\n",
       "  0.12308569013941706,\n",
       "  0.13594471521495857,\n",
       "  0.12890344493810021,\n",
       "  0.09402357361671564,\n",
       "  0.12546090876454846],\n",
       " 'val_accuracy': [0.9473684430122375,\n",
       "  0.9736841917037964,\n",
       "  0.9649122953414917,\n",
       "  0.9736841917037964,\n",
       "  0.9385964870452881,\n",
       "  0.9736841917037964,\n",
       "  0.9561403393745422,\n",
       "  0.9561403393745422,\n",
       "  0.9736841917037964,\n",
       "  0.9736841917037964,\n",
       "  0.9649122953414917],\n",
       " 'loss': [0.2765693956842789,\n",
       "  0.19225488277663896,\n",
       "  0.22115275202380433,\n",
       "  0.24207175482105422,\n",
       "  0.17114570583370362,\n",
       "  0.12923548758480247,\n",
       "  0.18261174501462296,\n",
       "  0.17519613216211508,\n",
       "  0.2164686496809616,\n",
       "  0.18890566833235406,\n",
       "  0.18455428111233882],\n",
       " 'accuracy': [0.8945055,\n",
       "  0.93186814,\n",
       "  0.9208791,\n",
       "  0.9076923,\n",
       "  0.93626374,\n",
       "  0.94945055,\n",
       "  0.93186814,\n",
       "  0.94065934,\n",
       "  0.9230769,\n",
       "  0.93846154,\n",
       "  0.94065934]}"
      ]
     },
     "execution_count": 28,
     "metadata": {},
     "output_type": "execute_result"
    }
   ],
   "source": [
    "clf.history.history[]"
   ]
  },
  {
   "cell_type": "code",
   "execution_count": null,
   "metadata": {},
   "outputs": [],
   "source": []
  }
 ],
 "metadata": {
  "kernelspec": {
   "display_name": "Python 3",
   "language": "python",
   "name": "python3"
  },
  "language_info": {
   "codemirror_mode": {
    "name": "ipython",
    "version": 3
   },
   "file_extension": ".py",
   "mimetype": "text/x-python",
   "name": "python",
   "nbconvert_exporter": "python",
   "pygments_lexer": "ipython3",
   "version": "3.7.7"
  }
 },
 "nbformat": 4,
 "nbformat_minor": 4
}
