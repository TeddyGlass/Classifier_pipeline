{
 "cells": [
  {
   "cell_type": "code",
   "execution_count": 1,
   "metadata": {},
   "outputs": [
    {
     "name": "stderr",
     "output_type": "stream",
     "text": [
      "/Users/kurosaki/opt/miniconda3/envs/ML/lib/python3.7/site-packages/lightgbm/__init__.py:48: UserWarning: Starting from version 2.2.1, the library file in distribution wheels for macOS is built by the Apple Clang (Xcode_8.3.3) compiler.\n",
      "This means that in case of installing LightGBM from PyPI via the ``pip install lightgbm`` command, you don't need to install the gcc compiler anymore.\n",
      "Instead of that, you need to install the OpenMP library, which is required for running LightGBM on the system with the Apple Clang compiler.\n",
      "You can install the OpenMP library by the following command: ``brew install libomp``.\n",
      "  \"You can install the OpenMP library by the following command: ``brew install libomp``.\", UserWarning)\n"
     ]
    }
   ],
   "source": [
    "from lightgbm import LGBMClassifier\n",
    "from xgboost import XGBClassifier\n",
    "from sklearn.datasets import load_breast_cancer\n",
    "from sklearn.model_selection import StratifiedKFold\n",
    "from sklearn.metrics import log_loss\n",
    "from trainer import Trainer\n",
    "from optimizer import Objective, optuna_search\n",
    "from utils import Paramset"
   ]
  },
  {
   "cell_type": "code",
   "execution_count": 2,
   "metadata": {},
   "outputs": [],
   "source": [
    "brest_c = load_breast_cancer()\n",
    "X = brest_c['data']\n",
    "y = brest_c['target']"
   ]
  },
  {
   "cell_type": "markdown",
   "metadata": {},
   "source": [
    "# LightGBM"
   ]
  },
  {
   "cell_type": "code",
   "execution_count": 5,
   "metadata": {
    "scrolled": true
   },
   "outputs": [
    {
     "name": "stderr",
     "output_type": "stream",
     "text": [
      "[I 2020-09-29 21:18:49,193] Finished trial#3 with value: 0.6603343289651606 with parameters: {'num_leaves': 56, 'subsample': 0.7601821503959288, 'colsample_bytree': 0.704095495910241, 'bagging_freq': 36.0, 'min_child_weight': 12.152348754280457, 'min_child_samples': 352.0, 'min_split_gain': 0.0014108892283675807}. Best is trial#3 with value: 0.6603343289651606.\n",
      "[I 2020-09-29 21:18:49,277] Finished trial#7 with value: 0.6603343289651606 with parameters: {'num_leaves': 59, 'subsample': 0.7501372282436913, 'colsample_bytree': 0.7215661337430935, 'bagging_freq': 16.0, 'min_child_weight': 1.1424469164796658, 'min_child_samples': 368.0, 'min_split_gain': 0.06851680046789696}. Best is trial#3 with value: 0.6603343289651606.\n",
      "[I 2020-09-29 21:18:49,421] Finished trial#6 with value: 0.6603343289651606 with parameters: {'num_leaves': 63, 'subsample': 0.6874063907598683, 'colsample_bytree': 0.739526239185453, 'bagging_freq': 1.0, 'min_child_weight': 10.08286395201542, 'min_child_samples': 384.0, 'min_split_gain': 6.94272949243014e-05}. Best is trial#3 with value: 0.6603343289651606.\n",
      "[I 2020-09-29 21:18:49,421] Finished trial#5 with value: 0.6603343289651606 with parameters: {'num_leaves': 32, 'subsample': 0.6648282015586429, 'colsample_bytree': 0.6299349734367367, 'bagging_freq': 11.0, 'min_child_weight': 3.8170151312336467, 'min_child_samples': 480.0, 'min_split_gain': 0.0006306667861780032}. Best is trial#3 with value: 0.6603343289651606.\n",
      "[I 2020-09-29 21:18:49,492] Finished trial#2 with value: 0.6603343289651606 with parameters: {'num_leaves': 40, 'subsample': 0.6174258599403081, 'colsample_bytree': 0.6040436794880651, 'bagging_freq': 46.0, 'min_child_weight': 14.833465191406553, 'min_child_samples': 464.0, 'min_split_gain': 0.0821246192225687}. Best is trial#3 with value: 0.6603343289651606.\n",
      "[I 2020-09-29 21:18:49,557] Finished trial#4 with value: 0.6603343289651606 with parameters: {'num_leaves': 64, 'subsample': 0.7043696643500144, 'colsample_bytree': 0.6829323879981047, 'bagging_freq': 11.0, 'min_child_weight': 14.633149879547634, 'min_child_samples': 304.0, 'min_split_gain': 0.001878173875716191}. Best is trial#3 with value: 0.6603343289651606.\n",
      "[I 2020-09-29 21:18:49,625] Finished trial#1 with value: 0.6603343289651606 with parameters: {'num_leaves': 56, 'subsample': 0.6545312589160226, 'colsample_bytree': 0.69553302346427, 'bagging_freq': 41.0, 'min_child_weight': 5.277614090672523, 'min_child_samples': 272.0, 'min_split_gain': 0.022096070868729552}. Best is trial#3 with value: 0.6603343289651606.\n",
      "[I 2020-09-29 21:18:49,704] Finished trial#0 with value: 0.6603343289651606 with parameters: {'num_leaves': 32, 'subsample': 0.7205526752143288, 'colsample_bytree': 0.7089766365993794, 'bagging_freq': 21.0, 'min_child_weight': 9.379237005966033, 'min_child_samples': 288.0, 'min_split_gain': 0.03690557729213761}. Best is trial#3 with value: 0.6603343289651606.\n",
      "[I 2020-09-29 21:18:50,439] Finished trial#8 with value: 0.2621008431757151 with parameters: {'num_leaves': 35, 'subsample': 0.7990599135355776, 'colsample_bytree': 0.7163700658877069, 'bagging_freq': 21.0, 'min_child_weight': 5.181922760328488, 'min_child_samples': 368.0, 'min_split_gain': 0.00022492123493926056}. Best is trial#8 with value: 0.2621008431757151.\n",
      "[I 2020-09-29 21:18:50,603] Finished trial#9 with value: 0.15691459563001847 with parameters: {'num_leaves': 53, 'subsample': 0.6634403484138592, 'colsample_bytree': 0.7556690964051819, 'bagging_freq': 51.0, 'min_child_weight': 9.935787611993932, 'min_child_samples': 128.0, 'min_split_gain': 0.0031001619540026544}. Best is trial#9 with value: 0.15691459563001847.\n"
     ]
    },
    {
     "data": {
      "text/plain": [
       "{'num_leaves': 53,\n",
       " 'subsample': 0.6634403484138592,\n",
       " 'colsample_bytree': 0.7556690964051819,\n",
       " 'bagging_freq': 51.0,\n",
       " 'min_child_weight': 9.935787611993932,\n",
       " 'min_child_samples': 128.0,\n",
       " 'min_split_gain': 0.0031001619540026544}"
      ]
     },
     "execution_count": 5,
     "metadata": {},
     "output_type": "execute_result"
    }
   ],
   "source": [
    "n_trials = 10\n",
    "n_jobs = -1\n",
    "random_state = 0\n",
    "\n",
    "obj = Objective(LGBMClassifier(), X, y)\n",
    "optuna_search(obj, n_trials, n_jobs, random_state)"
   ]
  },
  {
   "cell_type": "markdown",
   "metadata": {},
   "source": [
    "# XGBoost"
   ]
  },
  {
   "cell_type": "code",
   "execution_count": 6,
   "metadata": {
    "scrolled": true
   },
   "outputs": [
    {
     "name": "stderr",
     "output_type": "stream",
     "text": [
      "[I 2020-09-29 21:23:01,879] Finished trial#1 with value: 0.16884109563243524 with parameters: {'subsample': 0.7347309598677809, 'colsample_bytree': 0.7468841169599985, 'gamma': 3.167361913032263e-05, 'min_child_weight': 21.991361253724516}. Best is trial#1 with value: 0.16884109563243524.\n",
      "[I 2020-09-29 21:23:01,958] Finished trial#6 with value: 0.16884109563243524 with parameters: {'subsample': 0.6736548851737867, 'colsample_bytree': 0.7459881531991286, 'gamma': 1.4022527463902708e-07, 'min_child_weight': 26.41608175500247}. Best is trial#1 with value: 0.16884109563243524.\n",
      "[I 2020-09-29 21:23:02,031] Finished trial#3 with value: 0.16884109563243524 with parameters: {'subsample': 0.7636089122187865, 'colsample_bytree': 0.7888394957438992, 'gamma': 3.70073907377613e-08, 'min_child_weight': 1.352516785201165}. Best is trial#1 with value: 0.16884109563243524.\n",
      "[I 2020-09-29 21:23:02,119] Finished trial#2 with value: 0.16884109563243524 with parameters: {'subsample': 0.8427325521002058, 'colsample_bytree': 0.7075162278238667, 'gamma': 0.021567524728780586, 'min_child_weight': 6.252679627066157}. Best is trial#1 with value: 0.16884109563243524.\n",
      "[I 2020-09-29 21:23:02,374] Finished trial#5 with value: 0.16884109563243524 with parameters: {'subsample': 0.8457236684465528, 'colsample_bytree': 0.7698737846325086, 'gamma': 4.9185251681822834e-05, 'min_child_weight': 14.955931685990747}. Best is trial#1 with value: 0.16884109563243524.\n",
      "[I 2020-09-29 21:23:02,374] Finished trial#0 with value: 0.16884109563243524 with parameters: {'subsample': 0.7597627007854649, 'colsample_bytree': 0.757278404955863, 'gamma': 0.0006639066344186735, 'min_child_weight': 6.608926334221888}. Best is trial#1 with value: 0.16884109563243524.\n",
      "[I 2020-09-29 21:23:02,376] Finished trial#4 with value: 0.16884109563243524 with parameters: {'subsample': 0.6540436794880652, 'colsample_bytree': 0.7748929768321907, 'gamma': 0.016797861943261036, 'min_child_weight': 20.393828652552433}. Best is trial#1 with value: 0.16884109563243524.\n",
      "[I 2020-09-29 21:23:02,449] Finished trial#7 with value: 0.16884109563243524 with parameters: {'subsample': 0.7543696643500143, 'colsample_bytree': 0.7121992909985786, 'gamma': 1.3075096319371512e-06, 'min_child_weight': 14.633149879547634}. Best is trial#1 with value: 0.16884109563243524.\n",
      "[I 2020-09-29 21:23:04,330] Finished trial#9 with value: 0.13535679575336929 with parameters: {'subsample': 0.7724191445444842, 'colsample_bytree': 0.7425400995312136, 'gamma': 0.35480083081155517, 'min_child_weight': 10.622868573723212}. Best is trial#9 with value: 0.13535679575336929.\n",
      "[I 2020-09-29 21:23:04,661] Finished trial#8 with value: 0.13225254461956842 with parameters: {'subsample': 0.7412300664433097, 'colsample_bytree': 0.7352650923302974, 'gamma': 1.4135735278417051e-08, 'min_child_weight': 8.504211548303404}. Best is trial#8 with value: 0.13225254461956842.\n"
     ]
    },
    {
     "data": {
      "text/plain": [
       "{'subsample': 0.7412300664433097,\n",
       " 'colsample_bytree': 0.7352650923302974,\n",
       " 'gamma': 1.4135735278417051e-08,\n",
       " 'min_child_weight': 8.504211548303404}"
      ]
     },
     "execution_count": 6,
     "metadata": {},
     "output_type": "execute_result"
    }
   ],
   "source": [
    "obj = Objective(XGBClassifier(), X, y)\n",
    "optuna_search(obj, n_trials, n_jobs, random_state)"
   ]
  },
  {
   "cell_type": "code",
   "execution_count": null,
   "metadata": {},
   "outputs": [],
   "source": []
  }
 ],
 "metadata": {
  "kernelspec": {
   "display_name": "Python 3",
   "language": "python",
   "name": "python3"
  },
  "language_info": {
   "codemirror_mode": {
    "name": "ipython",
    "version": 3
   },
   "file_extension": ".py",
   "mimetype": "text/x-python",
   "name": "python",
   "nbconvert_exporter": "python",
   "pygments_lexer": "ipython3",
   "version": "3.7.7"
  }
 },
 "nbformat": 4,
 "nbformat_minor": 4
}
