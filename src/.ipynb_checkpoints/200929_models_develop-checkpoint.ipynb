{
 "cells": [
  {
   "cell_type": "code",
   "execution_count": 3,
   "metadata": {},
   "outputs": [
    {
     "name": "stderr",
     "output_type": "stream",
     "text": [
      "Using TensorFlow backend.\n",
      "/Users/kurosaki/opt/miniconda3/envs/ML/lib/python3.7/site-packages/tensorflow/python/framework/dtypes.py:526: FutureWarning: Passing (type, 1) or '1type' as a synonym of type is deprecated; in a future version of numpy, it will be understood as (type, (1,)) / '(1,)type'.\n",
      "  _np_qint8 = np.dtype([(\"qint8\", np.int8, 1)])\n",
      "/Users/kurosaki/opt/miniconda3/envs/ML/lib/python3.7/site-packages/tensorflow/python/framework/dtypes.py:527: FutureWarning: Passing (type, 1) or '1type' as a synonym of type is deprecated; in a future version of numpy, it will be understood as (type, (1,)) / '(1,)type'.\n",
      "  _np_quint8 = np.dtype([(\"quint8\", np.uint8, 1)])\n",
      "/Users/kurosaki/opt/miniconda3/envs/ML/lib/python3.7/site-packages/tensorflow/python/framework/dtypes.py:528: FutureWarning: Passing (type, 1) or '1type' as a synonym of type is deprecated; in a future version of numpy, it will be understood as (type, (1,)) / '(1,)type'.\n",
      "  _np_qint16 = np.dtype([(\"qint16\", np.int16, 1)])\n",
      "/Users/kurosaki/opt/miniconda3/envs/ML/lib/python3.7/site-packages/tensorflow/python/framework/dtypes.py:529: FutureWarning: Passing (type, 1) or '1type' as a synonym of type is deprecated; in a future version of numpy, it will be understood as (type, (1,)) / '(1,)type'.\n",
      "  _np_quint16 = np.dtype([(\"quint16\", np.uint16, 1)])\n",
      "/Users/kurosaki/opt/miniconda3/envs/ML/lib/python3.7/site-packages/tensorflow/python/framework/dtypes.py:530: FutureWarning: Passing (type, 1) or '1type' as a synonym of type is deprecated; in a future version of numpy, it will be understood as (type, (1,)) / '(1,)type'.\n",
      "  _np_qint32 = np.dtype([(\"qint32\", np.int32, 1)])\n",
      "/Users/kurosaki/opt/miniconda3/envs/ML/lib/python3.7/site-packages/tensorflow/python/framework/dtypes.py:535: FutureWarning: Passing (type, 1) or '1type' as a synonym of type is deprecated; in a future version of numpy, it will be understood as (type, (1,)) / '(1,)type'.\n",
      "  np_resource = np.dtype([(\"resource\", np.ubyte, 1)])\n"
     ]
    }
   ],
   "source": [
    "from keras.callbacks import EarlyStopping\n",
    "from keras.layers.advanced_activations import ReLU\n",
    "from keras.layers.core import Dense, Dropout\n",
    "from keras.layers.normalization import BatchNormalization\n",
    "from keras.models import Sequential\n",
    "from keras.optimizers import Adam\n",
    "from sklearn.preprocessing import StandardScaler\n",
    "from keras.utils import np_utils\n",
    "\n",
    "\n",
    "class NNClassifier:\n",
    "    '''\n",
    "    Usage:\n",
    "    clf = NNClassifier(**params)\n",
    "    history = clf.fit(\n",
    "    X_train,\n",
    "    y_train,\n",
    "    X_valid,\n",
    "    y_valid,\n",
    "    early_stopping_rounds\n",
    "    )\n",
    "    '''\n",
    "    \n",
    "    def __init__(self, input_shape, input_dropout, hidden_layers, hidden_units, hidden_dropout,\n",
    "                 batch_norm, learning_rate, batch_size, epochs):\n",
    "        self.input_shape = int(input_shape) # layer param\n",
    "        self.input_dropout = input_dropout # layer param\n",
    "        self.hidden_layers = int(hidden_layers) # layer param\n",
    "        self.hidden_units = int(hidden_units) # layer param\n",
    "        self.hidden_dropout = hidden_dropout # layer param\n",
    "        self.batch_norm = batch_norm # layer param\n",
    "        self.learning_rate = learning_rate # optimizer param\n",
    "        self.batch_size = int(batch_size) # fit param\n",
    "        self.epochs = int(epochs) # fit param\n",
    "        \n",
    "    def fit(self, X_train, y_train, X_valid, y_valid, early_stopping_rounds):\n",
    "        # Data standardization\n",
    "        self.scaler = StandardScaler()\n",
    "        X_train = self.scaler.fit_transform(X_train)\n",
    "        X_valid = self.scaler.transform(X_valid)\n",
    "        # layers\n",
    "        self.model = Sequential()\n",
    "        self.model.add(Dropout(self.input_dropout, input_shape=(self.input_shape,)))\n",
    "        for i in range(self.hidden_layers):\n",
    "            self.model.add(Dense(self.hidden_units))\n",
    "            if self.batch_norm == 'before_act':\n",
    "                self. model.add(BatchNormalization())\n",
    "            else:\n",
    "                raise NotImplementedError\n",
    "            self.model.add(ReLU())\n",
    "            self.model.add(Dropout(self.hidden_dropout))\n",
    "        self.model.add(Dense(1, activation='sigmoid'))\n",
    "        # Optimazer\n",
    "        optimizer = Adam(lr=self.learning_rate, beta_1=0.9, beta_2=0.999, decay=0.)\n",
    "        # Compile\n",
    "        self.model.compile(\n",
    "            loss='binary_crossentropy',\n",
    "            optimizer=optimizer,\n",
    "            metrics=['accuracy']\n",
    "        )\n",
    "        # train\n",
    "        early_stopping = EarlyStopping(patience=early_stopping_rounds, restore_best_weights=True)\n",
    "        self.history = self.model.fit(\n",
    "            X_train,\n",
    "            y_train,\n",
    "            epochs=self.epochs,\n",
    "            batch_size=self.batch_size,\n",
    "            verbose=1,\n",
    "            validation_data=(X_valid, y_valid),\n",
    "            callbacks=[early_stopping]\n",
    "        )\n",
    "        return self.history\n",
    "    \n",
    "    def predict(self, x):\n",
    "        x = self.scaler.transform(x)\n",
    "        y_pred = self.model.predict(x)\n",
    "        y_pred = y_pred.flatten()\n",
    "        return y_pred\n",
    "\n",
    "    def get_model(self):\n",
    "        return self.model"
   ]
  },
  {
   "cell_type": "code",
   "execution_count": null,
   "metadata": {},
   "outputs": [],
   "source": []
  },
  {
   "cell_type": "code",
   "execution_count": null,
   "metadata": {},
   "outputs": [],
   "source": []
  },
  {
   "cell_type": "code",
   "execution_count": 1,
   "metadata": {},
   "outputs": [
    {
     "name": "stderr",
     "output_type": "stream",
     "text": [
      "Using TensorFlow backend.\n",
      "/Users/kurosaki/opt/miniconda3/envs/ML/lib/python3.7/site-packages/tensorflow/python/framework/dtypes.py:526: FutureWarning: Passing (type, 1) or '1type' as a synonym of type is deprecated; in a future version of numpy, it will be understood as (type, (1,)) / '(1,)type'.\n",
      "  _np_qint8 = np.dtype([(\"qint8\", np.int8, 1)])\n",
      "/Users/kurosaki/opt/miniconda3/envs/ML/lib/python3.7/site-packages/tensorflow/python/framework/dtypes.py:527: FutureWarning: Passing (type, 1) or '1type' as a synonym of type is deprecated; in a future version of numpy, it will be understood as (type, (1,)) / '(1,)type'.\n",
      "  _np_quint8 = np.dtype([(\"quint8\", np.uint8, 1)])\n",
      "/Users/kurosaki/opt/miniconda3/envs/ML/lib/python3.7/site-packages/tensorflow/python/framework/dtypes.py:528: FutureWarning: Passing (type, 1) or '1type' as a synonym of type is deprecated; in a future version of numpy, it will be understood as (type, (1,)) / '(1,)type'.\n",
      "  _np_qint16 = np.dtype([(\"qint16\", np.int16, 1)])\n",
      "/Users/kurosaki/opt/miniconda3/envs/ML/lib/python3.7/site-packages/tensorflow/python/framework/dtypes.py:529: FutureWarning: Passing (type, 1) or '1type' as a synonym of type is deprecated; in a future version of numpy, it will be understood as (type, (1,)) / '(1,)type'.\n",
      "  _np_quint16 = np.dtype([(\"quint16\", np.uint16, 1)])\n",
      "/Users/kurosaki/opt/miniconda3/envs/ML/lib/python3.7/site-packages/tensorflow/python/framework/dtypes.py:530: FutureWarning: Passing (type, 1) or '1type' as a synonym of type is deprecated; in a future version of numpy, it will be understood as (type, (1,)) / '(1,)type'.\n",
      "  _np_qint32 = np.dtype([(\"qint32\", np.int32, 1)])\n",
      "/Users/kurosaki/opt/miniconda3/envs/ML/lib/python3.7/site-packages/tensorflow/python/framework/dtypes.py:535: FutureWarning: Passing (type, 1) or '1type' as a synonym of type is deprecated; in a future version of numpy, it will be understood as (type, (1,)) / '(1,)type'.\n",
      "  np_resource = np.dtype([(\"resource\", np.ubyte, 1)])\n"
     ]
    }
   ],
   "source": [
    "from keras.callbacks import EarlyStopping\n",
    "from keras.layers.advanced_activations import ReLU\n",
    "from keras.layers.core import Dense, Dropout\n",
    "from keras.layers.normalization import BatchNormalization\n",
    "from keras.models import Sequential\n",
    "from keras.optimizers import Adam\n",
    "from sklearn.preprocessing import StandardScaler\n",
    "from keras.utils import np_utils"
   ]
  },
  {
   "cell_type": "markdown",
   "metadata": {},
   "source": [
    "# inportant"
   ]
  },
  {
   "cell_type": "code",
   "execution_count": 2,
   "metadata": {},
   "outputs": [],
   "source": [
    "class NNClassifier:\n",
    "    '''\n",
    "    Usage:\n",
    "    clf = NNClassifier(**params)\n",
    "    history = clf.fit(\n",
    "    X_train,\n",
    "    y_train,\n",
    "    X_valid,\n",
    "    y_valid,\n",
    "    early_stopping_rounds\n",
    "    )\n",
    "    '''\n",
    "    \n",
    "    def __init__(self, input_shape, input_dropout, hidden_layers, hidden_units, hidden_dropout,\n",
    "                 batch_norm, learning_rate, batch_size, epochs):\n",
    "        self.input_shape = int(input_shape) # layer param\n",
    "        self.input_dropout = input_dropout # layer param\n",
    "        self.hidden_layers = int(hidden_layers) # layer param\n",
    "        self.hidden_units = int(hidden_units) # layer param\n",
    "        self.hidden_dropout = hidden_dropout # layer param\n",
    "        self.batch_norm = batch_norm # layer param\n",
    "        self.learning_rate = learning_rate # optimizer param\n",
    "        self.batch_size = int(batch_size) # fit param\n",
    "        self.epochs = int(epochs) # fit param\n",
    "        \n",
    "    def fit(self, X_train, y_train, X_valid, y_valid, early_stopping_rounds):\n",
    "        # Data standardization\n",
    "        self.scaler = StandardScaler()\n",
    "        X_train = self.scaler.fit_transform(X_train)\n",
    "        X_valid = self.scaler.transform(X_valid)\n",
    "        # layers\n",
    "        self.model = Sequential()\n",
    "        self.model.add(Dropout(self.input_dropout, input_shape=(self.input_shape,)))\n",
    "        for i in range(self.hidden_layers):\n",
    "            self.model.add(Dense(self.hidden_units))\n",
    "            if self.batch_norm == 'before_act':\n",
    "                self. model.add(BatchNormalization())\n",
    "            else:\n",
    "                raise NotImplementedError\n",
    "            self.model.add(ReLU())\n",
    "            self.model.add(Dropout(self.hidden_dropout))\n",
    "        self.model.add(Dense(1, activation='sigmoid'))\n",
    "        # Optimazer\n",
    "        optimizer = Adam(lr=self.learning_rate, beta_1=0.9, beta_2=0.999, decay=0.)\n",
    "        # Compile\n",
    "        self.model.compile(\n",
    "            loss='binary_crossentropy',\n",
    "            optimizer=optimizer,\n",
    "            metrics=['accuracy']\n",
    "        )\n",
    "        # train\n",
    "        early_stopping = EarlyStopping(patience=early_stopping_rounds, restore_best_weights=True)\n",
    "        self.history = self.model.fit(\n",
    "            X_train,\n",
    "            y_train,\n",
    "            epochs=self.epochs,\n",
    "            batch_size=self.batch_size,\n",
    "            verbose=1,\n",
    "            validation_data=(X_valid, y_valid),\n",
    "            callbacks=[early_stopping]\n",
    "        )\n",
    "        return self.history\n",
    "    \n",
    "    def predict(self, x):\n",
    "        x = self.scaler.transform(x)\n",
    "        y_pred = self.model.predict(x)\n",
    "        y_pred = y_pred.flatten()\n",
    "        return y_pred\n",
    "\n",
    "    def get_model(self):\n",
    "        return self.model"
   ]
  },
  {
   "cell_type": "code",
   "execution_count": 12,
   "metadata": {
    "scrolled": true
   },
   "outputs": [
    {
     "name": "stdout",
     "output_type": "stream",
     "text": [
      "Train on 455 samples, validate on 114 samples\n",
      "Epoch 1/10000\n",
      "455/455 [==============================] - 0s 813us/step - loss: 0.2928 - accuracy: 0.9033 - val_loss: 0.0900 - val_accuracy: 0.9561\n",
      "Epoch 2/10000\n",
      "455/455 [==============================] - 0s 141us/step - loss: 0.2644 - accuracy: 0.9099 - val_loss: 0.1164 - val_accuracy: 0.9474\n",
      "Epoch 3/10000\n",
      "455/455 [==============================] - 0s 134us/step - loss: 0.2115 - accuracy: 0.9231 - val_loss: 0.1098 - val_accuracy: 0.9737\n",
      "Epoch 4/10000\n",
      "455/455 [==============================] - 0s 141us/step - loss: 0.1750 - accuracy: 0.9407 - val_loss: 0.0979 - val_accuracy: 0.9561\n",
      "Epoch 5/10000\n",
      "455/455 [==============================] - 0s 134us/step - loss: 0.2121 - accuracy: 0.9385 - val_loss: 0.1092 - val_accuracy: 0.9649\n",
      "Epoch 6/10000\n",
      "455/455 [==============================] - 0s 138us/step - loss: 0.1933 - accuracy: 0.9319 - val_loss: 0.0837 - val_accuracy: 0.9737\n",
      "Epoch 7/10000\n",
      "455/455 [==============================] - 0s 137us/step - loss: 0.2321 - accuracy: 0.9231 - val_loss: 0.1177 - val_accuracy: 0.9561\n",
      "Epoch 8/10000\n",
      "455/455 [==============================] - 0s 145us/step - loss: 0.2599 - accuracy: 0.9099 - val_loss: 0.1139 - val_accuracy: 0.9561\n",
      "Epoch 9/10000\n",
      "455/455 [==============================] - 0s 144us/step - loss: 0.2038 - accuracy: 0.9363 - val_loss: 0.1246 - val_accuracy: 0.9561\n",
      "Epoch 10/10000\n",
      "455/455 [==============================] - 0s 141us/step - loss: 0.2657 - accuracy: 0.8857 - val_loss: 0.1521 - val_accuracy: 0.9386\n",
      "Epoch 11/10000\n",
      "455/455 [==============================] - 0s 143us/step - loss: 0.1807 - accuracy: 0.9407 - val_loss: 0.1071 - val_accuracy: 0.9649\n",
      "Epoch 12/10000\n",
      "455/455 [==============================] - 0s 143us/step - loss: 0.2514 - accuracy: 0.9099 - val_loss: 0.1203 - val_accuracy: 0.9649\n",
      "Epoch 13/10000\n",
      "455/455 [==============================] - 0s 144us/step - loss: 0.1551 - accuracy: 0.9495 - val_loss: 0.1034 - val_accuracy: 0.9561\n",
      "Epoch 14/10000\n",
      "455/455 [==============================] - 0s 147us/step - loss: 0.1988 - accuracy: 0.9341 - val_loss: 0.1281 - val_accuracy: 0.9474\n",
      "Epoch 15/10000\n",
      "455/455 [==============================] - 0s 137us/step - loss: 0.1352 - accuracy: 0.9473 - val_loss: 0.1047 - val_accuracy: 0.9737\n",
      "Epoch 16/10000\n",
      "455/455 [==============================] - 0s 133us/step - loss: 0.2102 - accuracy: 0.9341 - val_loss: 0.1521 - val_accuracy: 0.9561\n"
     ]
    }
   ],
   "source": [
    "from sklearn.model_selection import train_test_split\n",
    "from sklearn.datasets import load_breast_cancer\n",
    "brest_c = load_breast_cancer()\n",
    "X = brest_c['data']\n",
    "y = brest_c['target']\n",
    "X_train, X_valid, y_train, y_valid = train_test_split(X, y, test_size=0.2)\n",
    "\n",
    "# input_shape = X.shape[1]\n",
    "# input_dropout = 0.0\n",
    "# hidden_layers = 1\n",
    "# hidden_units = 16\n",
    "# hidden_dropout = 0.2\n",
    "# batch_norm = 'before_act'\n",
    "# batch_size = 10\n",
    "# learning_rate = 0.05\n",
    "# epochs = 10000\n",
    "early_stopping_rounds = 10\n",
    "\n",
    "params = {\n",
    "    'input_shape':X.shape[1],\n",
    "    \"input_dropout\":0.0,\n",
    "    \"hidden_layers\":1,\n",
    "    'hidden_units':16,\n",
    "    'hidden_dropout':0.2,\n",
    "    'batch_norm':'before_act',\n",
    "    'batch_size':10,\n",
    "    'learning_rate':0.05,\n",
    "    'epochs':10000\n",
    "}\n",
    "\n",
    "\n",
    "model = NNClassifier(\n",
    "    **params\n",
    "#     input_shape, input_dropout, hidden_layers, hidden_units, hidden_dropout,\n",
    "#                  batch_norm, learning_rate, batch_size, epochs\n",
    ")\n",
    "hist = model.fit(\n",
    "    X_train,\n",
    "    y_train,\n",
    "    X_valid,\n",
    "    y_valid,\n",
    "    early_stopping_rounds\n",
    ")"
   ]
  },
  {
   "cell_type": "code",
   "execution_count": 11,
   "metadata": {},
   "outputs": [
    {
     "data": {
      "image/png": "[encoded data removed]",
      "text/plain": [
       "<Figure size 432x288 with 1 Axes>"
      ]
     },
     "metadata": {
      "needs_background": "light"
     },
     "output_type": "display_data"
    }
   ],
   "source": [
    "import matplotlib.pyplot as plt\n",
    "from sklearn.metrics import roc_curve, auc\n",
    "fpr, tpr, thresholds = roc_curve(y_valid, model.predict(X_valid))\n",
    "plt.plot(fpr, tpr, marker='o')\n",
    "plt.xlabel('FPR: False positive rate')\n",
    "plt.ylabel('TPR: True positive rate')\n",
    "plt.grid()"
   ]
  },
  {
   "cell_type": "markdown",
   "metadata": {},
   "source": [
    "# Trainerクラスの編集"
   ]
  },
  {
   "cell_type": "code",
   "execution_count": 13,
   "metadata": {},
   "outputs": [],
   "source": [
    "import numpy as np\n",
    "import matplotlib.pyplot as plt\n",
    "import seaborn as sns\n",
    "\n",
    "\n",
    "class Trainer:\n",
    "\n",
    "    '''\n",
    "    # Usage\n",
    "    n_splits = 3\n",
    "    random_state = 0\n",
    "    early_stopping_rounds=10\n",
    "    kf = KFold(n_splits=n_splits, random_state=random_state, shuffle=True)\n",
    "    for tr_idx, va_idx in kf.split(X, y):\n",
    "        model = Trainer(XGBRegressor(**XGB_PARAMS))\n",
    "        model.fit(\n",
    "            X[tr_idx],\n",
    "            y[tr_idx],\n",
    "            X[va_idx],\n",
    "            y[va_idx],\n",
    "            early_stopping_rounds\n",
    "        )\n",
    "        model.get_learning_curve()\n",
    "    '''\n",
    "\n",
    "    def __init__(self, model):\n",
    "        self.model = model\n",
    "        self.model_type = type(model).__name__\n",
    "        self.best_iteration = 100\n",
    "        self.train_rmse = []\n",
    "        self.valid_rmse = []\n",
    "        self.importance = []\n",
    "\n",
    "    \n",
    "    def fit(self,\n",
    "            X_train, y_train, X_valid, y_valid,\n",
    "            early_stopping_rounds):\n",
    "\n",
    "        eval_set = [(X_train, y_train), (X_valid, y_valid)]\n",
    "\n",
    "        if self.model_type == \"LGBMClassifier\":\n",
    "            self.model.fit(\n",
    "                X_train,\n",
    "                y_train,\n",
    "                early_stopping_rounds=early_stopping_rounds,\n",
    "                eval_set=eval_set,\n",
    "                eval_metric='logloss',\n",
    "                verbose=False\n",
    "            )\n",
    "            self.best_iteration = self.model.best_iteration_\n",
    "            self.importance = self.model.booster_.feature_importance(\n",
    "                importance_type='gain')\n",
    "            self.train_logloss = np.array(\n",
    "                self.model.evals_result_['training']['binary_logloss'])\n",
    "            self.valid_logloss = np.array(\n",
    "                self.model.evals_result_['valid_1']['binary_logloss'])\n",
    "            self.importance = self.model.feature_importances_\n",
    "\n",
    "        elif self.model_type == 'XGBClassifier':\n",
    "            self.model.fit(\n",
    "                X_train,\n",
    "                y_train,\n",
    "                early_stopping_rounds=early_stopping_rounds,\n",
    "                eval_set=eval_set,\n",
    "                eval_metric='logloss',\n",
    "                verbose=0\n",
    "            )\n",
    "            self.best_iteration = self.model.best_iteration\n",
    "            self.importance = self.model.feature_importances_\n",
    "            self.train_logloss = np.array(\n",
    "                self.model.evals_result_['validation_0']['logloss'])\n",
    "            self.valid_logloss = np.array(\n",
    "                self.model.evals_result_['validation_1']['logloss'])\n",
    "            \n",
    "        elif self.model_type == 'NNClassifier':\n",
    "            history = self.model.fit(\n",
    "                X_train,\n",
    "                y_train,\n",
    "                X_valid,\n",
    "                y_valid,\n",
    "                early_stopping_rounds\n",
    "            )\n",
    "            self.train_logloss = np.array(history.history['loss'])\n",
    "            self.valid_logloss = np.array(history.history['val_loss'])\n",
    "            \n",
    "\n",
    "    def predict_proba(self, X):\n",
    "        if self.model_type == \"LGBMClassifier\":\n",
    "            print(print(f\"model type is {self.model_type}\"))\n",
    "            return self.model.predict_proba(X, ntree_limit=self.best_iteration)\n",
    "        elif self.model_type == \"XGBClassifier\":\n",
    "            print(print(f\"model type is {self.model_type}\"))\n",
    "            return self.model.predict_proba(X, ntree_limit=self.best_iteration)\n",
    "        elif self.model_type == 'NNClassifier':\n",
    "            print(print(f\"model type is {self.model_type}\"))\n",
    "            return self.model.predict(X)\n",
    "        \n",
    "        \n",
    "    def get_model(self):\n",
    "        if self.model_type == \"LGBMClassifier\":\n",
    "            print(print(f\"model type is {self.model_type}\"))\n",
    "            return self.model\n",
    "        elif self.model_type == \"XGBClassifier\":\n",
    "            print(print(f\"model type is {self.model_type}\"))\n",
    "            return self.model\n",
    "        elif self.model_type == 'NNClassifier':\n",
    "            return self.model.get_model()\n",
    "\n",
    "    \n",
    "    def get_best_iteration(self):\n",
    "        print(print(f\"model type is {self.model_type}\"))\n",
    "        return self.best_iteration\n",
    "\n",
    "    \n",
    "    def get_importance(self):\n",
    "        if self.model_type == \"LGBMClassifier\":\n",
    "            print(print(f\"model type is {self.model_type}\"))\n",
    "            return self.importance\n",
    "        elif self.model_type == \"XGBClassifier\":\n",
    "            print(print(f\"model type is {self.model_type}\"))\n",
    "            return self.importance\n",
    "        elif self.model_type == 'NNClassifier':\n",
    "            print(print(f\"model type is {self.model_type}\"))\n",
    "            return 'For NNClassifier, feature importance is not callable.'\n",
    "\n",
    "        \n",
    "    def get_learning_curve(self):\n",
    "        palette = sns.diverging_palette(220, 20, n=2)\n",
    "        width = np.arange(self.train_logloss.shape[0])\n",
    "        plt.figure(figsize=(10, 7.32))\n",
    "        plt.title(\n",
    "            'Learning_Curve ({})'.format(self.model_type), fontsize=15)\n",
    "        plt.xlabel('Iterations', fontsize=15)\n",
    "        plt.ylabel('LogLoss', fontsize=15)\n",
    "        plt.plot(width, self.train_logloss, label='train_logloss', color=palette[0])\n",
    "        plt.plot(width, self.valid_logloss, label='valid_logloss', color=palette[1])\n",
    "        plt.legend(loc='upper right', fontsize=13)\n",
    "        plt.show()"
   ]
  },
  {
   "cell_type": "code",
   "execution_count": 14,
   "metadata": {
    "scrolled": true
   },
   "outputs": [
    {
     "name": "stdout",
     "output_type": "stream",
     "text": [
      "Train on 455 samples, validate on 114 samples\n",
      "Epoch 1/10000\n",
      "455/455 [==============================] - 0s 851us/step - loss: 0.2190 - accuracy: 0.9077 - val_loss: 0.1563 - val_accuracy: 0.9386\n",
      "Epoch 2/10000\n",
      "455/455 [==============================] - 0s 135us/step - loss: 0.2386 - accuracy: 0.9253 - val_loss: 0.1006 - val_accuracy: 0.9561\n",
      "Epoch 3/10000\n",
      "455/455 [==============================] - 0s 143us/step - loss: 0.2474 - accuracy: 0.9187 - val_loss: 0.0973 - val_accuracy: 0.9737\n",
      "Epoch 4/10000\n",
      "455/455 [==============================] - 0s 140us/step - loss: 0.1763 - accuracy: 0.9385 - val_loss: 0.0936 - val_accuracy: 0.9561\n",
      "Epoch 5/10000\n",
      "455/455 [==============================] - 0s 139us/step - loss: 0.1896 - accuracy: 0.9165 - val_loss: 0.1118 - val_accuracy: 0.9561\n",
      "Epoch 6/10000\n",
      "455/455 [==============================] - 0s 152us/step - loss: 0.2676 - accuracy: 0.8901 - val_loss: 0.1388 - val_accuracy: 0.9649\n",
      "Epoch 7/10000\n",
      "455/455 [==============================] - 0s 150us/step - loss: 0.2558 - accuracy: 0.8967 - val_loss: 0.1361 - val_accuracy: 0.9561\n",
      "Epoch 8/10000\n",
      "455/455 [==============================] - 0s 147us/step - loss: 0.1870 - accuracy: 0.9495 - val_loss: 0.0973 - val_accuracy: 0.9825\n",
      "Epoch 9/10000\n",
      "455/455 [==============================] - 0s 151us/step - loss: 0.2549 - accuracy: 0.9077 - val_loss: 0.1189 - val_accuracy: 0.9649\n",
      "Epoch 10/10000\n",
      "455/455 [==============================] - 0s 149us/step - loss: 0.2114 - accuracy: 0.9231 - val_loss: 0.1414 - val_accuracy: 0.9737\n",
      "Epoch 11/10000\n",
      "455/455 [==============================] - 0s 150us/step - loss: 0.1592 - accuracy: 0.9451 - val_loss: 0.1334 - val_accuracy: 0.9649\n",
      "Epoch 12/10000\n",
      "455/455 [==============================] - 0s 161us/step - loss: 0.2467 - accuracy: 0.8989 - val_loss: 0.1437 - val_accuracy: 0.9474\n",
      "Epoch 13/10000\n",
      "455/455 [==============================] - 0s 141us/step - loss: 0.1819 - accuracy: 0.9231 - val_loss: 0.1159 - val_accuracy: 0.9561\n",
      "Epoch 14/10000\n",
      "455/455 [==============================] - 0s 149us/step - loss: 0.1638 - accuracy: 0.9451 - val_loss: 0.0991 - val_accuracy: 0.9649\n"
     ]
    }
   ],
   "source": [
    "early_stopping_rounds = 10\n",
    "params = {\n",
    "    'input_shape':X.shape[1],\n",
    "    \"input_dropout\":0.0,\n",
    "    \"hidden_layers\":1,\n",
    "    'hidden_units':16,\n",
    "    'hidden_dropout':0.2,\n",
    "    'batch_norm':'before_act',\n",
    "    'batch_size':10,\n",
    "    'learning_rate':0.05,\n",
    "    'epochs':10000\n",
    "}\n",
    "\n",
    "clf = Trainer(NNClassifier(**params))\n",
    "clf.fit(\n",
    "    X_train,\n",
    "    y_train,\n",
    "    X_valid,\n",
    "    y_valid,\n",
    "    early_stopping_rounds\n",
    ")"
   ]
  },
  {
   "cell_type": "code",
   "execution_count": 7,
   "metadata": {},
   "outputs": [
    {
     "name": "stdout",
     "output_type": "stream",
     "text": [
      "model type is NNClassifier\n",
      "None\n"
     ]
    },
    {
     "data": {
      "text/plain": [
       "array([9.9993348e-01, 9.9461305e-01, 9.9917030e-01, 6.7599714e-03,\n",
       "       9.7173208e-01, 9.9992162e-01, 4.3892860e-04, 9.9956179e-01,\n",
       "       1.0000000e+00, 9.6628129e-01, 9.9939507e-01, 9.9953270e-01,\n",
       "       2.7427912e-02, 9.9999785e-01, 3.0851662e-03, 9.9374855e-01,\n",
       "       9.9740183e-01, 9.9696529e-01, 6.1780214e-05, 9.9937904e-01,\n",
       "       1.1551380e-04, 1.6185820e-02, 9.9717122e-01, 9.9998826e-01,\n",
       "       9.9986219e-01, 9.9699497e-01, 3.8152039e-03, 9.9926329e-01,\n",
       "       9.7167033e-01, 9.9999595e-01, 9.9999356e-01, 9.9998462e-01,\n",
       "       9.9999809e-01, 9.9999809e-01, 9.9966478e-01, 9.9998659e-01,\n",
       "       9.9999595e-01, 9.9999940e-01, 1.8233061e-04, 9.9999809e-01,\n",
       "       9.9141675e-01, 9.9994361e-01, 9.9999142e-01, 9.9999785e-01,\n",
       "       9.9909151e-01, 9.9999928e-01, 9.9999857e-01, 9.8995036e-01,\n",
       "       9.4352961e-03, 9.9406123e-01, 9.9905872e-01, 1.1920929e-07,\n",
       "       9.9981380e-01, 8.8095665e-05, 9.9290669e-01, 9.9992764e-01,\n",
       "       0.0000000e+00, 9.9933302e-01, 9.9997139e-01, 9.9987131e-01,\n",
       "       2.2216648e-02, 9.5343089e-01, 9.9998426e-01, 9.9994826e-01,\n",
       "       9.9999058e-01, 9.8747921e-01, 9.9986649e-01, 9.8157108e-02,\n",
       "       4.9207249e-01, 9.9932241e-01, 9.9997908e-01, 9.9999982e-01,\n",
       "       5.3644180e-07, 8.8335192e-01, 9.9960625e-01, 9.9998939e-01,\n",
       "       9.9998671e-01, 4.1827559e-04, 9.9996209e-01, 9.9987501e-01,\n",
       "       9.9871826e-01, 9.9991977e-01, 9.9997234e-01, 6.4115852e-01,\n",
       "       1.7523766e-05, 5.1768577e-01, 2.5629997e-06, 2.3841858e-07,\n",
       "       3.6701560e-04, 9.9998760e-01, 9.9999660e-01, 9.9995071e-01,\n",
       "       9.4855595e-01, 9.9999499e-01, 1.1343658e-01, 9.8068106e-01,\n",
       "       9.9999285e-01, 9.9999982e-01, 9.9791270e-01, 9.8453200e-01,\n",
       "       9.9911690e-01, 7.9015195e-03, 1.7768407e-01, 9.9999940e-01,\n",
       "       9.9988723e-01, 9.9999899e-01, 9.9936450e-01, 9.9993348e-01,\n",
       "       4.2345613e-02, 9.9975014e-01, 8.1896782e-05, 9.9476612e-01,\n",
       "       9.9955636e-01, 8.7933701e-01], dtype=float32)"
      ]
     },
     "execution_count": 7,
     "metadata": {},
     "output_type": "execute_result"
    }
   ],
   "source": [
    "clf.predict_proba(X_valid)"
   ]
  },
  {
   "cell_type": "code",
   "execution_count": 8,
   "metadata": {},
   "outputs": [
    {
     "name": "stdout",
     "output_type": "stream",
     "text": [
      "model type is NNClassifier\n",
      "None\n"
     ]
    },
    {
     "data": {
      "text/plain": [
       "100"
      ]
     },
     "execution_count": 8,
     "metadata": {},
     "output_type": "execute_result"
    }
   ],
   "source": [
    "clf.get_best_iteration()"
   ]
  },
  {
   "cell_type": "code",
   "execution_count": 9,
   "metadata": {},
   "outputs": [
    {
     "name": "stdout",
     "output_type": "stream",
     "text": [
      "model type is NNClassifier\n",
      "None\n"
     ]
    },
    {
     "data": {
      "text/plain": [
       "'For NNClassifier, feature importance is not callable.'"
      ]
     },
     "execution_count": 9,
     "metadata": {},
     "output_type": "execute_result"
    }
   ],
   "source": [
    "clf.get_importance()"
   ]
  },
  {
   "cell_type": "code",
   "execution_count": 10,
   "metadata": {},
   "outputs": [
    {
     "data": {
      "image/png": "[encoded data removed]",
      "text/plain": [
       "<Figure size 720x527.04 with 1 Axes>"
      ]
     },
     "metadata": {
      "needs_background": "light"
     },
     "output_type": "display_data"
    }
   ],
   "source": [
    "clf.get_learning_curve()"
   ]
  },
  {
   "cell_type": "code",
   "execution_count": 11,
   "metadata": {},
   "outputs": [
    {
     "name": "stdout",
     "output_type": "stream",
     "text": [
      "Model: \"sequential_1\"\n",
      "_________________________________________________________________\n",
      "Layer (type)                 Output Shape              Param #   \n",
      "=================================================================\n",
      "dropout_1 (Dropout)          (None, 30)                0         \n",
      "_________________________________________________________________\n",
      "dense_1 (Dense)              (None, 16)                496       \n",
      "_________________________________________________________________\n",
      "batch_normalization_1 (Batch (None, 16)                64        \n",
      "_________________________________________________________________\n",
      "re_lu_1 (ReLU)               (None, 16)                0         \n",
      "_________________________________________________________________\n",
      "dropout_2 (Dropout)          (None, 16)                0         \n",
      "_________________________________________________________________\n",
      "dense_2 (Dense)              (None, 1)                 17        \n",
      "=================================================================\n",
      "Total params: 577\n",
      "Trainable params: 545\n",
      "Non-trainable params: 32\n",
      "_________________________________________________________________\n"
     ]
    }
   ],
   "source": [
    "m = clf.get_model()\n",
    "m.summary()"
   ]
  },
  {
   "cell_type": "code",
   "execution_count": null,
   "metadata": {},
   "outputs": [],
   "source": []
  }
 ],
 "metadata": {
  "kernelspec": {
   "display_name": "Python 3",
   "language": "python",
   "name": "python3"
  },
  "language_info": {
   "codemirror_mode": {
    "name": "ipython",
    "version": 3
   },
   "file_extension": ".py",
   "mimetype": "text/x-python",
   "name": "python",
   "nbconvert_exporter": "python",
   "pygments_lexer": "ipython3",
   "version": "3.7.7"
  }
 },
 "nbformat": 4,
 "nbformat_minor": 4
}
