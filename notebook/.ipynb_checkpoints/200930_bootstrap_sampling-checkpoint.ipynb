{
 "cells": [
  {
   "cell_type": "code",
   "execution_count": 1,
   "metadata": {},
   "outputs": [],
   "source": [
    "from sklearn.datasets import load_breast_cancer\n",
    "import math\n",
    "from sklearn.model_selection import KFold\n",
    "import numpy as np\n",
    "cancer = load_breast_cancer()\n",
    "X = cancer['data']\n",
    "y = cancer['target']\n",
    "y[:400] = 0"
   ]
  },
  {
   "cell_type": "code",
   "execution_count": 2,
   "metadata": {},
   "outputs": [],
   "source": [
    "from sklearn.datasets import load_breast_cancer\n",
    "import math\n",
    "from sklearn.model_selection import KFold\n",
    "import numpy as np\n",
    "import pandas as pd\n",
    "\n",
    "def under_sampling(X, y):\n",
    "    bool_act = y==1\n",
    "    n_data_sets = math.ceil(len(y[~bool_act])/len(y[bool_act]))\n",
    "    if n_data_sets==1:\n",
    "        return X, y\n",
    "    elif n_data_sets>1:\n",
    "        print(f'n_datasets = {n_data_sets}')\n",
    "        x_nega = X[~bool_act]\n",
    "        y_nega = y[~bool_act]\n",
    "        x_posi = X[bool_act]\n",
    "        y_posi = y[bool_act]\n",
    "        kf = KFold(n_splits=n_data_sets, random_state=1719, shuffle=True)\n",
    "        idxes = [idx for idx, _ in kf.split(x_nega, y_nega)]\n",
    "        under_sampling_X = [np.concatenate([x_nega[idx], x_posi]) for idx in idxes]\n",
    "        under_sampling_y = [np.concatenate([y_nega[idx], y_posi]) for idx in idxes]\n",
    "        return under_sampling_X, under_sampling_y"
   ]
  },
  {
   "cell_type": "markdown",
   "metadata": {},
   "source": [
    "欠損のある列のboolの否定をarrayに処理すれば欠損列を削除可能"
   ]
  },
  {
   "cell_type": "code",
   "execution_count": 31,
   "metadata": {
    "scrolled": true
   },
   "outputs": [
    {
     "data": {
      "text/plain": [
       "array([[ 1.,  2.,  3.,  4.],\n",
       "       [ 4., nan,  6.,  4.],\n",
       "       [ 7.,  8., nan,  4.]])"
      ]
     },
     "execution_count": 31,
     "metadata": {},
     "output_type": "execute_result"
    }
   ],
   "source": [
    "a = [1, 2, 3, 4]\n",
    "b = [4, np.nan, 6, 4]\n",
    "c = [7, 8, np.nan, 4]\n",
    "array = np.array([a,b,c]).reshape(3,len(a))\n",
    "array"
   ]
  },
  {
   "cell_type": "code",
   "execution_count": 32,
   "metadata": {},
   "outputs": [
    {
     "name": "stdout",
     "output_type": "stream",
     "text": [
      "[ True False False  True]\n"
     ]
    }
   ],
   "source": [
    "print(~np.isnan(array).any(axis=0))"
   ]
  },
  {
   "cell_type": "code",
   "execution_count": 33,
   "metadata": {},
   "outputs": [
    {
     "data": {
      "text/plain": [
       "array([[1., 4.],\n",
       "       [4., 4.],\n",
       "       [7., 4.]])"
      ]
     },
     "execution_count": 33,
     "metadata": {},
     "output_type": "execute_result"
    }
   ],
   "source": [
    "array[:, ~np.isnan(array).any(axis=0)]"
   ]
  },
  {
   "cell_type": "markdown",
   "metadata": {},
   "source": [
    "欠損値の０埋め"
   ]
  },
  {
   "cell_type": "code",
   "execution_count": 34,
   "metadata": {},
   "outputs": [
    {
     "data": {
      "text/plain": [
       "array([[1., 2., 3., 4.],\n",
       "       [4., 0., 6., 4.],\n",
       "       [7., 8., 0., 4.]])"
      ]
     },
     "execution_count": 34,
     "metadata": {},
     "output_type": "execute_result"
    }
   ],
   "source": [
    "np.nan_to_num(array)"
   ]
  },
  {
   "cell_type": "markdown",
   "metadata": {},
   "source": [
    "平均埋め"
   ]
  },
  {
   "cell_type": "code",
   "execution_count": 35,
   "metadata": {},
   "outputs": [
    {
     "data": {
      "text/plain": [
       "array([[1. , 2. , 3. , 4. ],\n",
       "       [4. , 5. , 6. , 4. ],\n",
       "       [7. , 8. , 4.5, 4. ]])"
      ]
     },
     "execution_count": 35,
     "metadata": {},
     "output_type": "execute_result"
    }
   ],
   "source": [
    "import pandas as pd\n",
    "df = pd.DataFrame(array)\n",
    "np.array(df.fillna(df.mean()))"
   ]
  },
  {
   "cell_type": "markdown",
   "metadata": {},
   "source": [
    "中央値埋め"
   ]
  },
  {
   "cell_type": "code",
   "execution_count": 36,
   "metadata": {},
   "outputs": [
    {
     "data": {
      "text/plain": [
       "array([[1. , 2. , 3. , 4. ],\n",
       "       [4. , 5. , 6. , 4. ],\n",
       "       [7. , 8. , 4.5, 4. ]])"
      ]
     },
     "execution_count": 36,
     "metadata": {},
     "output_type": "execute_result"
    }
   ],
   "source": [
    "df = pd.DataFrame(array)\n",
    "np.array(df.fillna(df.median()))"
   ]
  },
  {
   "cell_type": "code",
   "execution_count": 37,
   "metadata": {},
   "outputs": [],
   "source": [
    "def nan_processing(x, flag):\n",
    "    if flag == 'drop':\n",
    "        return x[:, ~np.isnan(x).any(axis=0)]\n",
    "    elif flag == 'fillzero':\n",
    "        return np.nan_to_num(x)\n",
    "    elif flag == 'fillmean':\n",
    "        df = pd.DataFrame(x)\n",
    "        return np.array(df.fillna(df.mean()))\n",
    "    elif flag == 'fillmedian':\n",
    "        df = pd.DataFrame(x)\n",
    "        return np.array(df.fillna(df.median()))"
   ]
  },
  {
   "cell_type": "code",
   "execution_count": 41,
   "metadata": {},
   "outputs": [
    {
     "data": {
      "text/plain": [
       "array([[1. , 2. , 3. , 4. ],\n",
       "       [4. , 5. , 6. , 4. ],\n",
       "       [7. , 8. , 4.5, 4. ]])"
      ]
     },
     "execution_count": 41,
     "metadata": {},
     "output_type": "execute_result"
    }
   ],
   "source": [
    "nan_processing(array, 'fillmedian')\n"
   ]
  },
  {
   "cell_type": "code",
   "execution_count": 42,
   "metadata": {},
   "outputs": [
    {
     "name": "stdout",
     "output_type": "stream",
     "text": [
      "[[ 1.  2.  3.  4.]\n",
      " [ 4. nan  6.  4.]\n",
      " [ 7.  8. nan  4.]]\n"
     ]
    }
   ],
   "source": [
    "array_1 = np.array([a,b,c]).reshape(3,len(a))\n",
    "array_2 = np.array([a,b,c]).reshape(3,len(a))\n",
    "print(array_1)"
   ]
  },
  {
   "cell_type": "code",
   "execution_count": 52,
   "metadata": {},
   "outputs": [
    {
     "data": {
      "text/plain": [
       "array([[ 1.,  2.,  3.,  4.],\n",
       "       [ 4., nan,  6.,  4.],\n",
       "       [ 7.,  8., nan,  4.]])"
      ]
     },
     "execution_count": 52,
     "metadata": {},
     "output_type": "execute_result"
    }
   ],
   "source": [
    "# 下からn番目を抽出\n",
    "np.concatenate([array_1, array_2], axis=0)[-3:,:]"
   ]
  },
  {
   "cell_type": "code",
   "execution_count": 54,
   "metadata": {},
   "outputs": [
    {
     "data": {
      "text/plain": [
       "array([[ 1.,  2.,  3.,  4.],\n",
       "       [ 4., nan,  6.,  4.],\n",
       "       [ 7.,  8., nan,  4.]])"
      ]
     },
     "execution_count": 54,
     "metadata": {},
     "output_type": "execute_result"
    }
   ],
   "source": [
    "# 上からn番目までを抽出\n",
    "np.concatenate([array_1, array_2], axis=0)[:3,:]"
   ]
  },
  {
   "cell_type": "code",
   "execution_count": 49,
   "metadata": {},
   "outputs": [
    {
     "data": {
      "text/plain": [
       "array([[ 1.,  2.,  3.,  4.],\n",
       "       [ 4., nan,  6.,  4.],\n",
       "       [ 7.,  8., nan,  4.],\n",
       "       [ 1.,  2.,  3.,  4.],\n",
       "       [ 4., nan,  6.,  4.],\n",
       "       [ 7.,  8., nan,  4.]])"
      ]
     },
     "execution_count": 49,
     "metadata": {},
     "output_type": "execute_result"
    }
   ],
   "source": [
    "np.concatenate([array_1, array_2], axis=0)"
   ]
  },
  {
   "cell_type": "code",
   "execution_count": null,
   "metadata": {},
   "outputs": [],
   "source": []
  }
 ],
 "metadata": {
  "kernelspec": {
   "display_name": "Python 3",
   "language": "python",
   "name": "python3"
  },
  "language_info": {
   "codemirror_mode": {
    "name": "ipython",
    "version": 3
   },
   "file_extension": ".py",
   "mimetype": "text/x-python",
   "name": "python",
   "nbconvert_exporter": "python",
   "pygments_lexer": "ipython3",
   "version": "3.7.6"
  }
 },
 "nbformat": 4,
 "nbformat_minor": 4
}
